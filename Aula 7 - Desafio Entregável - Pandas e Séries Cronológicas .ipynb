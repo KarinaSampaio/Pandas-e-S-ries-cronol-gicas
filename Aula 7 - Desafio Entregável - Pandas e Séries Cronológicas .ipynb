{
 "cells": [
  {
   "cell_type": "markdown",
   "id": "cf6b818f-2cbf-413c-9348-e6437634f261",
   "metadata": {},
   "source": [
    "# Pandas e Séries Cronológicas"
   ]
  },
  {
   "cell_type": "markdown",
   "id": "1e8c23f4-0f09-4225-9c06-cd5d74f1eb4f",
   "metadata": {},
   "source": [
    "## >> Resposta da Tarefa:"
   ]
  },
  {
   "cell_type": "code",
   "execution_count": 1,
   "id": "ea14a889-3155-40b5-88d8-8351807552db",
   "metadata": {},
   "outputs": [],
   "source": ""
  },
  {
   "cell_type": "markdown",
   "id": "0ace3d95-7594-4108-af60-af972e60b98c",
   "metadata": {},
   "source": [
    "### 1. Com este arquivo (Summer-Olympic-medals-1976-to-2008), construir um objeto de Serie cronológica com o índice igual ao ano dos jogos olímpicos\n"
   ]
  },
  {
   "cell_type": "code",
   "id": "fca4319b-3105-42b4-baf1-5df593c764b8",
   "metadata": {
    "ExecuteTime": {
     "end_time": "2024-07-02T22:56:25.491774Z",
     "start_time": "2024-07-02T22:56:25.409340Z"
    }
   },
   "source": [
    "import pandas as pd\n",
    "import numpy as np \n",
    "\n",
    "# Carregar o arquivo CSV com a codificação correta\n",
    "file_path = 'Summer-Olympic-medals-1976-to-2008.csv'\n",
    "data = pd.read_csv(file_path, encoding='ISO-8859-1')\n",
    "\n",
    "# Agrupar os dados pelo ano e contar o número de medalhas\n",
    "medal_counts_per_year = data.groupby('Year').size()\n",
    "\n",
    "# Criar a série cronológica com o índice igual ao ano\n",
    "serie_cronologica = pd.Series(medal_counts_per_year, index=medal_counts_per_year.index)\n",
    "\n",
    "# Exibir a série cronológica\n",
    "print(serie_cronologica)\n",
    "#df = pd.read_csv('Summer-Olympic-medals-1976-to-2008.csv')\n",
    "#df.head()\n",
    "\n"
   ],
   "outputs": [
    {
     "name": "stdout",
     "output_type": "stream",
     "text": [
      "Year\n",
      "1976.0    1305\n",
      "1980.0    1387\n",
      "1984.0    1459\n",
      "1988.0    1546\n",
      "1992.0    1705\n",
      "1996.0    1859\n",
      "2000.0    2015\n",
      "2004.0    1998\n",
      "2008.0    2042\n",
      "dtype: int64\n"
     ]
    }
   ],
   "execution_count": 3
  },
  {
   "cell_type": "code",
   "execution_count": null,
   "id": "932e1807-7f09-46b1-8f18-cd23bfa92d93",
   "metadata": {},
   "outputs": [],
   "source": []
  },
  {
   "cell_type": "code",
   "execution_count": null,
   "id": "cf7b3db9-0958-4c69-9cdd-3a003bc896a4",
   "metadata": {},
   "outputs": [],
   "source": []
  },
  {
   "cell_type": "markdown",
   "id": "434a75b8-a4e9-4e7c-98af-24487f58440c",
   "metadata": {},
   "source": [
    "### 2.  Separar os nomes próprios de sobrenomes em duas colunas distintas usando vírgula como separador"
   ]
  },
  {
   "cell_type": "code",
   "id": "c6f48743-0490-4a2b-872c-953858f60197",
   "metadata": {
    "ExecuteTime": {
     "end_time": "2024-07-02T22:59:32.085853Z",
     "start_time": "2024-07-02T22:59:31.971604Z"
    }
   },
   "source": [
    "import pandas as pd\n",
    "\n",
    "# Carregar o arquivo CSV com a codificação correta\n",
    "file_path = 'Summer-Olympic-medals-1976-to-2008.csv'\n",
    "data = pd.read_csv(file_path, encoding='ISO-8859-1')\n",
    "\n",
    "# Separar os nomes próprios dos sobrenomes, lidando com possíveis exceções\n",
    "data[['Sobrenome', 'Nome']] = data['Athlete'].str.split(', ', expand=True, n=1)\n",
    "\n",
    "# Exibir as primeiras linhas para verificar o resultado\n",
    "data.head()\n"
   ],
   "outputs": [
    {
     "data": {
      "text/plain": [
       "       City    Year     Sport Discipline           Event  \\\n",
       "0  Montreal  1976.0  Aquatics     Diving  3m springboard   \n",
       "1  Montreal  1976.0  Aquatics     Diving  3m springboard   \n",
       "2  Montreal  1976.0  Aquatics     Diving  3m springboard   \n",
       "3  Montreal  1976.0  Aquatics     Diving  3m springboard   \n",
       "4  Montreal  1976.0  Aquatics     Diving    10m platform   \n",
       "\n",
       "                    Athlete Gender Country_Code        Country Event_gender  \\\n",
       "0           KÖHLER, Christa  Women          GDR   East Germany            W   \n",
       "1       KOSENKOV, Aleksandr    Men          URS   Soviet Union            M   \n",
       "2      BOGGS, Philip George    Men          USA  United States            M   \n",
       "3  CAGNOTTO, Giorgio Franco    Men          ITA          Italy            M   \n",
       "4    WILSON, Deborah Keplar  Women          USA  United States            W   \n",
       "\n",
       "    Medal Sobrenome            Nome  \n",
       "0  Silver    KÖHLER         Christa  \n",
       "1  Bronze  KOSENKOV       Aleksandr  \n",
       "2    Gold     BOGGS   Philip George  \n",
       "3  Silver  CAGNOTTO  Giorgio Franco  \n",
       "4  Bronze    WILSON  Deborah Keplar  "
      ],
      "text/html": [
       "<div>\n",
       "<style scoped>\n",
       "    .dataframe tbody tr th:only-of-type {\n",
       "        vertical-align: middle;\n",
       "    }\n",
       "\n",
       "    .dataframe tbody tr th {\n",
       "        vertical-align: top;\n",
       "    }\n",
       "\n",
       "    .dataframe thead th {\n",
       "        text-align: right;\n",
       "    }\n",
       "</style>\n",
       "<table border=\"1\" class=\"dataframe\">\n",
       "  <thead>\n",
       "    <tr style=\"text-align: right;\">\n",
       "      <th></th>\n",
       "      <th>City</th>\n",
       "      <th>Year</th>\n",
       "      <th>Sport</th>\n",
       "      <th>Discipline</th>\n",
       "      <th>Event</th>\n",
       "      <th>Athlete</th>\n",
       "      <th>Gender</th>\n",
       "      <th>Country_Code</th>\n",
       "      <th>Country</th>\n",
       "      <th>Event_gender</th>\n",
       "      <th>Medal</th>\n",
       "      <th>Sobrenome</th>\n",
       "      <th>Nome</th>\n",
       "    </tr>\n",
       "  </thead>\n",
       "  <tbody>\n",
       "    <tr>\n",
       "      <th>0</th>\n",
       "      <td>Montreal</td>\n",
       "      <td>1976.0</td>\n",
       "      <td>Aquatics</td>\n",
       "      <td>Diving</td>\n",
       "      <td>3m springboard</td>\n",
       "      <td>KÖHLER, Christa</td>\n",
       "      <td>Women</td>\n",
       "      <td>GDR</td>\n",
       "      <td>East Germany</td>\n",
       "      <td>W</td>\n",
       "      <td>Silver</td>\n",
       "      <td>KÖHLER</td>\n",
       "      <td>Christa</td>\n",
       "    </tr>\n",
       "    <tr>\n",
       "      <th>1</th>\n",
       "      <td>Montreal</td>\n",
       "      <td>1976.0</td>\n",
       "      <td>Aquatics</td>\n",
       "      <td>Diving</td>\n",
       "      <td>3m springboard</td>\n",
       "      <td>KOSENKOV, Aleksandr</td>\n",
       "      <td>Men</td>\n",
       "      <td>URS</td>\n",
       "      <td>Soviet Union</td>\n",
       "      <td>M</td>\n",
       "      <td>Bronze</td>\n",
       "      <td>KOSENKOV</td>\n",
       "      <td>Aleksandr</td>\n",
       "    </tr>\n",
       "    <tr>\n",
       "      <th>2</th>\n",
       "      <td>Montreal</td>\n",
       "      <td>1976.0</td>\n",
       "      <td>Aquatics</td>\n",
       "      <td>Diving</td>\n",
       "      <td>3m springboard</td>\n",
       "      <td>BOGGS, Philip George</td>\n",
       "      <td>Men</td>\n",
       "      <td>USA</td>\n",
       "      <td>United States</td>\n",
       "      <td>M</td>\n",
       "      <td>Gold</td>\n",
       "      <td>BOGGS</td>\n",
       "      <td>Philip George</td>\n",
       "    </tr>\n",
       "    <tr>\n",
       "      <th>3</th>\n",
       "      <td>Montreal</td>\n",
       "      <td>1976.0</td>\n",
       "      <td>Aquatics</td>\n",
       "      <td>Diving</td>\n",
       "      <td>3m springboard</td>\n",
       "      <td>CAGNOTTO, Giorgio Franco</td>\n",
       "      <td>Men</td>\n",
       "      <td>ITA</td>\n",
       "      <td>Italy</td>\n",
       "      <td>M</td>\n",
       "      <td>Silver</td>\n",
       "      <td>CAGNOTTO</td>\n",
       "      <td>Giorgio Franco</td>\n",
       "    </tr>\n",
       "    <tr>\n",
       "      <th>4</th>\n",
       "      <td>Montreal</td>\n",
       "      <td>1976.0</td>\n",
       "      <td>Aquatics</td>\n",
       "      <td>Diving</td>\n",
       "      <td>10m platform</td>\n",
       "      <td>WILSON, Deborah Keplar</td>\n",
       "      <td>Women</td>\n",
       "      <td>USA</td>\n",
       "      <td>United States</td>\n",
       "      <td>W</td>\n",
       "      <td>Bronze</td>\n",
       "      <td>WILSON</td>\n",
       "      <td>Deborah Keplar</td>\n",
       "    </tr>\n",
       "  </tbody>\n",
       "</table>\n",
       "</div>"
      ]
     },
     "execution_count": 4,
     "metadata": {},
     "output_type": "execute_result"
    }
   ],
   "execution_count": 4
  },
  {
   "cell_type": "code",
   "execution_count": null,
   "id": "ffc75134-96ba-4ed8-baf4-42a93fbfc9d8",
   "metadata": {},
   "outputs": [],
   "source": []
  },
  {
   "cell_type": "markdown",
   "id": "69479b42-f971-4c42-a015-77f394ad552b",
   "metadata": {},
   "source": [
    "### 3. Obter medidas resumidas do conjunto de dados"
   ]
  },
  {
   "cell_type": "code",
   "id": "e5712c9c-0ed4-4ede-a0da-bcdc796a1c9c",
   "metadata": {
    "ExecuteTime": {
     "end_time": "2024-07-02T23:05:25.545923Z",
     "start_time": "2024-07-02T23:05:23.762225Z"
    }
   },
   "source": [
    "import pandas as pd\n",
    "\n",
    "# Carregar o arquivo CSV com a codificação correta\n",
    "file_path = 'Summer-Olympic-medals-1976-to-2008.csv'\n",
    "data = pd.read_csv(file_path, encoding='ISO-8859-1')\n",
    "\n",
    "# Separar os nomes próprios dos sobrenomes, lidando com possíveis exceções\n",
    "data[['Sobrenome', 'Nome']] = data['Athlete'].str.split(', ', expand=True, n=1)\n",
    "\n",
    "# Obter estatísticas descritivas das colunas numéricas\n",
    "estatisticas_descritivas = data.describe()\n",
    "\n",
    "# Obter contagem de valores únicos para cada coluna\n",
    "valores_unicos = data.nunique()\n",
    "\n",
    "# Verificar valores ausentes em cada coluna\n",
    "valores_ausentes = data.isnull().sum()\n",
    "\n",
    "# Exibir os resultados\n",
    "print(\"Estatísticas Descritivas:\")\n",
    "print(estatisticas_descritivas)\n",
    "print(\"\\nContagem de Valores Únicos:\")\n",
    "print(valores_unicos)\n",
    "print(\"\\nContagem de Valores Ausentes:\")\n",
    "print(valores_ausentes)\n"
   ],
   "outputs": [
    {
     "name": "stdout",
     "output_type": "stream",
     "text": [
      "Estatísticas Descritivas:\n",
      "               Year\n",
      "count  15316.000000\n",
      "mean    1993.620789\n",
      "std       10.159851\n",
      "min     1976.000000\n",
      "25%     1984.000000\n",
      "50%     1996.000000\n",
      "75%     2004.000000\n",
      "max     2008.000000\n",
      "\n",
      "Contagem de Valores Únicos:\n",
      "City                9\n",
      "Year                9\n",
      "Sport              28\n",
      "Discipline         41\n",
      "Event             293\n",
      "Athlete         11337\n",
      "Gender              2\n",
      "Country_Code      128\n",
      "Country           127\n",
      "Event_gender        3\n",
      "Medal               3\n",
      "Sobrenome        8930\n",
      "Nome             5587\n",
      "dtype: int64\n",
      "\n",
      "Contagem de Valores Ausentes:\n",
      "City            117\n",
      "Year            117\n",
      "Sport           117\n",
      "Discipline      117\n",
      "Event           117\n",
      "Athlete         117\n",
      "Gender          117\n",
      "Country_Code    117\n",
      "Country         117\n",
      "Event_gender    117\n",
      "Medal           117\n",
      "Sobrenome       117\n",
      "Nome            210\n",
      "dtype: int64\n"
     ]
    }
   ],
   "execution_count": 8
  },
  {
   "cell_type": "code",
   "execution_count": null,
   "id": "06951abd-250a-45c5-a501-91c1d60faa4c",
   "metadata": {},
   "outputs": [],
   "source": []
  },
  {
   "cell_type": "markdown",
   "id": "3dee5bde-5ff3-4f4e-8afb-d513dc731c3f",
   "metadata": {},
   "source": [
    "### 4. Construir uma tabela mostrando quantas medalhas foram ganhas pelos homens no total em cada ano"
   ]
  },
  {
   "cell_type": "code",
   "id": "d948e877-276e-4281-92d0-a3bc9658afb7",
   "metadata": {
    "ExecuteTime": {
     "end_time": "2024-07-02T23:08:33.465482Z",
     "start_time": "2024-07-02T23:08:33.375615Z"
    }
   },
   "source": [
    "import pandas as pd\n",
    "\n",
    "# Carregar o arquivo CSV com a codificação correta\n",
    "file_path = 'Summer-Olympic-medals-1976-to-2008.csv'\n",
    "data = pd.read_csv(file_path, encoding='ISO-8859-1')\n",
    "\n",
    "# Filtrar os dados para contar apenas as medalhas ganhas pelos homens\n",
    "medalhas_homens = data[data['Gender'] == 'Men']\n",
    "\n",
    "# Contar o número de medalhas ganhas pelos homens em cada ano\n",
    "medalhas_homens_por_ano = medalhas_homens.groupby('Year').size().reset_index(name='Total Medalhas')\n",
    "\n",
    "# Exibir o resultado\n",
    "medalhas_homens_por_ano\n"
   ],
   "outputs": [
    {
     "data": {
      "text/plain": [
       "     Year  Total Medalhas\n",
       "0  1976.0             924\n",
       "1  1980.0             958\n",
       "2  1984.0             973\n",
       "3  1988.0            1011\n",
       "4  1992.0            1105\n",
       "5  1996.0            1082\n",
       "6  2000.0            1126\n",
       "7  2004.0            1099\n",
       "8  2008.0            1110"
      ],
      "text/html": [
       "<div>\n",
       "<style scoped>\n",
       "    .dataframe tbody tr th:only-of-type {\n",
       "        vertical-align: middle;\n",
       "    }\n",
       "\n",
       "    .dataframe tbody tr th {\n",
       "        vertical-align: top;\n",
       "    }\n",
       "\n",
       "    .dataframe thead th {\n",
       "        text-align: right;\n",
       "    }\n",
       "</style>\n",
       "<table border=\"1\" class=\"dataframe\">\n",
       "  <thead>\n",
       "    <tr style=\"text-align: right;\">\n",
       "      <th></th>\n",
       "      <th>Year</th>\n",
       "      <th>Total Medalhas</th>\n",
       "    </tr>\n",
       "  </thead>\n",
       "  <tbody>\n",
       "    <tr>\n",
       "      <th>0</th>\n",
       "      <td>1976.0</td>\n",
       "      <td>924</td>\n",
       "    </tr>\n",
       "    <tr>\n",
       "      <th>1</th>\n",
       "      <td>1980.0</td>\n",
       "      <td>958</td>\n",
       "    </tr>\n",
       "    <tr>\n",
       "      <th>2</th>\n",
       "      <td>1984.0</td>\n",
       "      <td>973</td>\n",
       "    </tr>\n",
       "    <tr>\n",
       "      <th>3</th>\n",
       "      <td>1988.0</td>\n",
       "      <td>1011</td>\n",
       "    </tr>\n",
       "    <tr>\n",
       "      <th>4</th>\n",
       "      <td>1992.0</td>\n",
       "      <td>1105</td>\n",
       "    </tr>\n",
       "    <tr>\n",
       "      <th>5</th>\n",
       "      <td>1996.0</td>\n",
       "      <td>1082</td>\n",
       "    </tr>\n",
       "    <tr>\n",
       "      <th>6</th>\n",
       "      <td>2000.0</td>\n",
       "      <td>1126</td>\n",
       "    </tr>\n",
       "    <tr>\n",
       "      <th>7</th>\n",
       "      <td>2004.0</td>\n",
       "      <td>1099</td>\n",
       "    </tr>\n",
       "    <tr>\n",
       "      <th>8</th>\n",
       "      <td>2008.0</td>\n",
       "      <td>1110</td>\n",
       "    </tr>\n",
       "  </tbody>\n",
       "</table>\n",
       "</div>"
      ]
     },
     "execution_count": 9,
     "metadata": {},
     "output_type": "execute_result"
    }
   ],
   "execution_count": 9
  },
  {
   "cell_type": "code",
   "execution_count": null,
   "id": "24856bfa-9d7f-41b8-901e-2936caad62ab",
   "metadata": {},
   "outputs": [],
   "source": []
  },
  {
   "cell_type": "code",
   "execution_count": null,
   "id": "eca2fc43-4314-4365-bf93-881ebf5fc35b",
   "metadata": {},
   "outputs": [],
   "source": []
  },
  {
   "cell_type": "code",
   "execution_count": null,
   "id": "1b357569-6d67-49e1-bddc-1f887c5f89c4",
   "metadata": {},
   "outputs": [],
   "source": []
  },
  {
   "cell_type": "code",
   "execution_count": null,
   "id": "34b954dd-7a1d-4705-8b7c-33c5ac8ac6a0",
   "metadata": {},
   "outputs": [],
   "source": []
  },
  {
   "cell_type": "code",
   "execution_count": null,
   "id": "742708d1-c00f-41bd-948d-6493aaabd6af",
   "metadata": {},
   "outputs": [],
   "source": []
  },
  {
   "cell_type": "code",
   "execution_count": null,
   "id": "8e4039c6-9e94-41fb-ab70-5f3ce3d1ba18",
   "metadata": {},
   "outputs": [],
   "source": []
  },
  {
   "cell_type": "code",
   "execution_count": null,
   "id": "d61441d3-6f85-4028-b1fa-17734c510fd4",
   "metadata": {},
   "outputs": [],
   "source": []
  },
  {
   "cell_type": "code",
   "execution_count": null,
   "id": "911397fe-40ae-4c9d-a911-59392d2e9344",
   "metadata": {},
   "outputs": [],
   "source": []
  },
  {
   "cell_type": "code",
   "execution_count": null,
   "id": "37ed60e8-b30d-422d-a199-c33451f56bb3",
   "metadata": {},
   "outputs": [],
   "source": []
  },
  {
   "cell_type": "code",
   "execution_count": null,
   "id": "6789485f-4c21-4600-a102-580d7a4cd53e",
   "metadata": {},
   "outputs": [],
   "source": []
  },
  {
   "cell_type": "code",
   "execution_count": null,
   "id": "b6cf6768-c9a6-475e-88b8-94afc113ea90",
   "metadata": {},
   "outputs": [],
   "source": []
  }
 ],
 "metadata": {
  "kernelspec": {
   "display_name": "Python 3 (ipykernel)",
   "language": "python",
   "name": "python3"
  },
  "language_info": {
   "codemirror_mode": {
    "name": "ipython",
    "version": 3
   },
   "file_extension": ".py",
   "mimetype": "text/x-python",
   "name": "python",
   "nbconvert_exporter": "python",
   "pygments_lexer": "ipython3",
   "version": "3.11.7"
  }
 },
 "nbformat": 4,
 "nbformat_minor": 5
}
